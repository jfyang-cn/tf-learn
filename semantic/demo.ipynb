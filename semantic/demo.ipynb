{
 "cells": [
  {
   "cell_type": "code",
   "execution_count": 1,
   "id": "2614fb40",
   "metadata": {},
   "outputs": [],
   "source": [
    "from data_gen import DataGen"
   ]
  },
  {
   "cell_type": "code",
   "execution_count": 2,
   "id": "c37ae887",
   "metadata": {},
   "outputs": [],
   "source": [
    "filepath = '/home/philyang/drone/data/data512/train.txt'\n",
    "path_dataset = '/home/philyang/drone/data/data512'\n",
    "gen = DataGen(filepath=filepath, path_dataset=path_dataset)"
   ]
  },
  {
   "cell_type": "code",
   "execution_count": 3,
   "id": "65b8bebd",
   "metadata": {},
   "outputs": [],
   "source": [
    "X, Y = gen.__getitem__(0)"
   ]
  },
  {
   "cell_type": "code",
   "execution_count": 4,
   "id": "bfbfb22f",
   "metadata": {},
   "outputs": [
    {
     "name": "stdout",
     "output_type": "stream",
     "text": [
      "(8, 512, 512, 3) (8, 512, 512)\n"
     ]
    }
   ],
   "source": [
    "print(X.shape, Y.shape)"
   ]
  },
  {
   "cell_type": "code",
   "execution_count": 9,
   "id": "44edf75f",
   "metadata": {},
   "outputs": [
    {
     "name": "stdout",
     "output_type": "stream",
     "text": [
      "[2 2 2 ... 2 2 2]\n"
     ]
    }
   ],
   "source": [
    "print(Y[1][Y[1]==2])"
   ]
  },
  {
   "cell_type": "code",
   "execution_count": null,
   "id": "6821f08c",
   "metadata": {},
   "outputs": [],
   "source": []
  }
 ],
 "metadata": {
  "kernelspec": {
   "display_name": "Python 3",
   "language": "python",
   "name": "python3"
  },
  "language_info": {
   "codemirror_mode": {
    "name": "ipython",
    "version": 3
   },
   "file_extension": ".py",
   "mimetype": "text/x-python",
   "name": "python",
   "nbconvert_exporter": "python",
   "pygments_lexer": "ipython3",
   "version": "3.6.9"
  }
 },
 "nbformat": 4,
 "nbformat_minor": 5
}
